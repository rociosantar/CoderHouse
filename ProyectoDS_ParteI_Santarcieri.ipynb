{
  "nbformat": 4,
  "nbformat_minor": 0,
  "metadata": {
    "colab": {
      "provenance": []
    },
    "kernelspec": {
      "name": "python3",
      "display_name": "Python 3"
    },
    "language_info": {
      "name": "python"
    }
  },
  "cells": [
    {
      "cell_type": "code",
      "execution_count": null,
      "metadata": {
        "id": "aWXPU9GwBk5E"
      },
      "outputs": [],
      "source": []
    },
    {
      "cell_type": "markdown",
      "source": [
        "## Resumen\n",
        "\n",
        "Este cuaderno de Jupyter profundiza en un conjunto de datos de abandono de clientes que contiene 5,000 observaciones y 18 variables. Estas variables ofrecen valiosos conocimientos sobre el comportamiento de los clientes y las posibles causas del abandono. El conjunto de datos incluye:\n",
        "\n",
        "* **churn** (categórico): Indica si un cliente abandonó (Sí) o permaneció leal (No).\n",
        "* **accountlength** (numérico): Antigüedad de la cuenta del cliente (potencialmente influye en el riesgo de abandono).\n",
        "* **internationalplan** (categórico): Presencia de un plan de llamadas internacionales (potencialmente impactando en los costos y el abandono).\n",
        "* **voicemailplan** (categórico): Presencia de un plan de correo de voz (puede ser un determinante de servicio en el abandono).\n",
        "* **numbervmailmessages** (numérico): Número de mensajes de correo de voz recibidos (podría indicar patrones de uso).\n",
        "* **Variables de llamadas y minutos** (numérico): Total de minutos y llamadas realizadas durante el día, la noche y la tarde (revelando patrones de comunicación).\n",
        "* **Variables de cargos** (numérico): Cargos totales por llamadas diurnas, nocturnas y vespertinas, así como por llamadas internacionales (explorando factores de abandono relacionados con los costos).\n",
        "* **numbercustomerservicecalls** (numérico): Número de llamadas realizadas al servicio de atención al cliente (potencialmente relacionado con la insatisfacción o las necesidades de solución de problemas).\n",
        "\n",
        "Este conjunto de datos se origina en una fuente similar a los perfiles reales de clientes, ofreciendo valiosos conocimientos para comprender y potencialmente mitigar el abandono de clientes. Si bien la fuente original (repositorio de datos UCI) se ha modificado para este análisis (excluyendo el código de área y el número de teléfono), proporciona una representación realista de los datos de los clientes de telecomunicaciones.\n",
        "\n",
        "## Preguntas de investigación e hipótesis\n",
        "\n",
        "1. ¿Qué factores son los más influyentes en el abandono de clientes?\n",
        "* Hipótesis: La antigüedad de la cuenta, los planes internacionales/de correo de voz, los patrones de uso (llamadas, minutos), los cargos totales y la frecuencia de las llamadas al servicio de atención al cliente podrían asociarse con el abandono.\n",
        "\n",
        "2. ¿Algunos segmentos específicos de clientes exhiben tasas de abandono más altas?\n",
        "* Hipótesis: Los clientes con baja antigüedad de la cuenta, sin planes internacionales/de correo de voz, menor uso, altos cargos o frecuentes llamadas al servicio de atención al cliente podrían ser más propensos a abandonar.\n",
        "\n",
        "3. ¿Cómo podemos visualizar estas relaciones y resumir los hallazgos clave?\n",
        "* Hipótesis: Las visualizaciones univariantes, bivariantes y potencialmente multivariantes (por ejemplo, diagramas de caja, gráficos de dispersión, mapas de calor) pueden explorar efectivamente estas relaciones. Las estadísticas descriptivas (media, mediana, desviación estándar) complementarán las visualizaciones."
      ],
      "metadata": {
        "id": "1hn4wZE_gPpn"
      }
    }
  ]
}